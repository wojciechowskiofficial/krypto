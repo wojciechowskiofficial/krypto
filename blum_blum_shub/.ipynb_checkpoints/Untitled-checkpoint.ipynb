{
 "cells": [
  {
   "cell_type": "code",
   "execution_count": 1,
   "id": "87aa305c",
   "metadata": {},
   "outputs": [],
   "source": [
    "import algo"
   ]
  },
  {
   "cell_type": "code",
   "execution_count": 2,
   "id": "d0746081",
   "metadata": {},
   "outputs": [
    {
     "name": "stdout",
     "output_type": "stream",
     "text": [
      "9999999 771987398317 413605617108\n"
     ]
    }
   ],
   "source": [
    "bbs = algo.BBS(9999999)"
   ]
  },
  {
   "cell_type": "code",
   "execution_count": 3,
   "id": "23797fb6",
   "metadata": {},
   "outputs": [],
   "source": [
    "import sympy\n",
    "import numpy as np"
   ]
  },
  {
   "cell_type": "code",
   "execution_count": 4,
   "id": "8b458181",
   "metadata": {},
   "outputs": [],
   "source": [
    "x = iter(bbs)"
   ]
  },
  {
   "cell_type": "code",
   "execution_count": 5,
   "id": "e7059415",
   "metadata": {},
   "outputs": [],
   "source": [
    "bits = list()\n",
    "for i in range(20000):\n",
    "    bits.append(next(x) % 2)"
   ]
  },
  {
   "cell_type": "markdown",
   "id": "65910261",
   "metadata": {},
   "source": [
    "pojedynczych bitow"
   ]
  },
  {
   "cell_type": "code",
   "execution_count": 6,
   "id": "88ba8a7e",
   "metadata": {},
   "outputs": [
    {
     "data": {
      "text/plain": [
       "10013"
      ]
     },
     "execution_count": 6,
     "metadata": {},
     "output_type": "execute_result"
    }
   ],
   "source": [
    "bits.count(1)"
   ]
  },
  {
   "cell_type": "markdown",
   "id": "a98c3363",
   "metadata": {},
   "source": [
    "serii"
   ]
  },
  {
   "cell_type": "code",
   "execution_count": 7,
   "id": "fda995e3",
   "metadata": {},
   "outputs": [
    {
     "name": "stdout",
     "output_type": "stream",
     "text": [
      "1: 2006\n",
      "2: 1136\n",
      "3: 590\n",
      "4: 299\n",
      "5: 140\n",
      "6: 164\n"
     ]
    }
   ],
   "source": [
    "import re\n",
    "bits_str = [str(el) for el in bits]\n",
    "bits_str = ''.join(bits_str)\n",
    "print(f'1: {len(re.findall(\"010\", bits_str))}')\n",
    "print(f'2: {len(re.findall(\"0110\", bits_str))}')\n",
    "print(f'3: {len(re.findall(\"01110\", bits_str))}')\n",
    "print(f'4: {len(re.findall(\"011110\", bits_str))}')\n",
    "print(f'5: {len(re.findall(\"0111110\", bits_str))}')\n",
    "print(f'6: {len(list(filter(lambda x : len(x) > 5, re.findall(\"1*\", bits_str))))}')"
   ]
  },
  {
   "cell_type": "markdown",
   "id": "247dda39",
   "metadata": {},
   "source": [
    "dlugiej serii"
   ]
  },
  {
   "cell_type": "code",
   "execution_count": 8,
   "id": "0110ffa9",
   "metadata": {},
   "outputs": [
    {
     "data": {
      "text/plain": [
       "True"
      ]
     },
     "execution_count": 8,
     "metadata": {},
     "output_type": "execute_result"
    }
   ],
   "source": [
    "not len(list(filter(lambda x : len(x) >= 26, re.findall('1*', bits_str))))"
   ]
  },
  {
   "cell_type": "markdown",
   "id": "1e78f9f4",
   "metadata": {},
   "source": [
    "pokerek"
   ]
  },
  {
   "cell_type": "code",
   "execution_count": 9,
   "id": "148b4a76",
   "metadata": {},
   "outputs": [
    {
     "name": "stdout",
     "output_type": "stream",
     "text": [
      "6.227200000000266\n"
     ]
    }
   ],
   "source": [
    "values = {i : 0 for i in range(16)}\n",
    "for i in range(0, 20000, 4):\n",
    "    values[int(bits_str[i:i+4], 2)] += 1\n",
    "print(16 / 5000 * sum([el ** 2 for el in values.values()]) - 5000)"
   ]
  }
 ],
 "metadata": {
  "kernelspec": {
   "display_name": "Python 3 (ipykernel)",
   "language": "python",
   "name": "python3"
  },
  "language_info": {
   "codemirror_mode": {
    "name": "ipython",
    "version": 3
   },
   "file_extension": ".py",
   "mimetype": "text/x-python",
   "name": "python",
   "nbconvert_exporter": "python",
   "pygments_lexer": "ipython3",
   "version": "3.9.7"
  }
 },
 "nbformat": 4,
 "nbformat_minor": 5
}
