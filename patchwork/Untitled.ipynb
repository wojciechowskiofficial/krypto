{
 "cells": [
  {
   "cell_type": "code",
   "execution_count": 1,
   "id": "7f275bd7",
   "metadata": {},
   "outputs": [],
   "source": [
    "import numpy as np"
   ]
  },
  {
   "cell_type": "code",
   "execution_count": 2,
   "id": "8999e27e",
   "metadata": {},
   "outputs": [
    {
     "data": {
      "text/plain": [
       "2"
      ]
     },
     "execution_count": 2,
     "metadata": {},
     "output_type": "execute_result"
    }
   ],
   "source": [
    "x = np.full((10, 10), fill_value=100, dtype=np.float16)\n",
    "x.itemsize"
   ]
  },
  {
   "cell_type": "code",
   "execution_count": 3,
   "id": "f8f1fc1c",
   "metadata": {},
   "outputs": [],
   "source": [
    "import algo"
   ]
  },
  {
   "cell_type": "code",
   "execution_count": 9,
   "id": "eebf9849",
   "metadata": {},
   "outputs": [
    {
     "name": "stdout",
     "output_type": "stream",
     "text": [
      "10000.0\n"
     ]
    }
   ],
   "source": [
    "e = algo.Encoder(10, 10)\n",
    "print(np.sum(x))"
   ]
  },
  {
   "cell_type": "code",
   "execution_count": 10,
   "id": "04a708a7",
   "metadata": {},
   "outputs": [],
   "source": [
    "x = e.encode(x)"
   ]
  },
  {
   "cell_type": "code",
   "execution_count": 11,
   "id": "eac4e86f",
   "metadata": {},
   "outputs": [
    {
     "data": {
      "text/plain": [
       "10000.0"
      ]
     },
     "execution_count": 11,
     "metadata": {},
     "output_type": "execute_result"
    }
   ],
   "source": [
    "np.sum(x)"
   ]
  },
  {
   "cell_type": "code",
   "execution_count": 12,
   "id": "1ebad2d3",
   "metadata": {},
   "outputs": [
    {
     "name": "stdout",
     "output_type": "stream",
     "text": [
      "368.0 688.0\n"
     ]
    }
   ],
   "source": [
    "print(e.S_n, e.S_n_prim)"
   ]
  },
  {
   "cell_type": "code",
   "execution_count": 13,
   "id": "da470716",
   "metadata": {},
   "outputs": [],
   "source": [
    "d = algo.Decoder(10, 10)"
   ]
  },
  {
   "cell_type": "code",
   "execution_count": 14,
   "id": "48187b69",
   "metadata": {},
   "outputs": [],
   "source": [
    "x = d.decode(x)"
   ]
  },
  {
   "cell_type": "code",
   "execution_count": 15,
   "id": "e4b89035",
   "metadata": {},
   "outputs": [
    {
     "data": {
      "text/plain": [
       "368.0"
      ]
     },
     "execution_count": 15,
     "metadata": {},
     "output_type": "execute_result"
    }
   ],
   "source": [
    "d.S_n"
   ]
  }
 ],
 "metadata": {
  "kernelspec": {
   "display_name": "Python 3 (ipykernel)",
   "language": "python",
   "name": "python3"
  },
  "language_info": {
   "codemirror_mode": {
    "name": "ipython",
    "version": 3
   },
   "file_extension": ".py",
   "mimetype": "text/x-python",
   "name": "python",
   "nbconvert_exporter": "python",
   "pygments_lexer": "ipython3",
   "version": "3.9.7"
  }
 },
 "nbformat": 4,
 "nbformat_minor": 5
}
