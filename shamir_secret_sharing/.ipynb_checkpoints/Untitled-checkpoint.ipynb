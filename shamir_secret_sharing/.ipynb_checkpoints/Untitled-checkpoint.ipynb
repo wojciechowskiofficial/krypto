{
 "cells": [
  {
   "cell_type": "code",
   "execution_count": 1,
   "id": "6e961e82",
   "metadata": {},
   "outputs": [],
   "source": [
    "import algo"
   ]
  },
  {
   "cell_type": "code",
   "execution_count": 2,
   "id": "efbde71e",
   "metadata": {},
   "outputs": [],
   "source": [
    "e = algo.Encoder(3, 5, 999)"
   ]
  },
  {
   "cell_type": "code",
   "execution_count": 3,
   "id": "f05c56a5",
   "metadata": {},
   "outputs": [
    {
     "name": "stdout",
     "output_type": "stream",
     "text": [
      "     2\n",
      "907 x + 141 x + 999 1013\n"
     ]
    }
   ],
   "source": [
    "shares = e.encode()\n",
    "print(e.poly, e.p)"
   ]
  },
  {
   "cell_type": "code",
   "execution_count": null,
   "id": "5c0c26dd",
   "metadata": {},
   "outputs": [],
   "source": []
  }
 ],
 "metadata": {
  "kernelspec": {
   "display_name": "Python 3 (ipykernel)",
   "language": "python",
   "name": "python3"
  },
  "language_info": {
   "codemirror_mode": {
    "name": "ipython",
    "version": 3
   },
   "file_extension": ".py",
   "mimetype": "text/x-python",
   "name": "python",
   "nbconvert_exporter": "python",
   "pygments_lexer": "ipython3",
   "version": "3.9.7"
  }
 },
 "nbformat": 4,
 "nbformat_minor": 5
}
