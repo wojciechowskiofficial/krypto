{
 "cells": [
  {
   "cell_type": "code",
   "execution_count": 1,
   "id": "1612aa60",
   "metadata": {},
   "outputs": [],
   "source": [
    "import algo"
   ]
  },
  {
   "cell_type": "code",
   "execution_count": 2,
   "id": "773af0eb",
   "metadata": {},
   "outputs": [],
   "source": [
    "e = algo.Encoder(3, 5, 999)"
   ]
  },
  {
   "cell_type": "code",
   "execution_count": 3,
   "id": "d6b7e95a",
   "metadata": {},
   "outputs": [
    {
     "name": "stdout",
     "output_type": "stream",
     "text": [
      "    2\n",
      "83 x + 73 x + 999\n"
     ]
    }
   ],
   "source": [
    "shares, p = e.encode()\n",
    "print(e.poly)"
   ]
  },
  {
   "cell_type": "code",
   "execution_count": 4,
   "id": "5375890d",
   "metadata": {},
   "outputs": [
    {
     "name": "stdout",
     "output_type": "stream",
     "text": [
      "[(1, 146), (2, 468), (3, 956), (4, 601), (5, 412)] 1009\n",
      "[(3, 956), (4, 601), (5, 412)]\n"
     ]
    }
   ],
   "source": [
    "print(shares, p)\n",
    "shares.pop(0)\n",
    "shares.pop(0)\n",
    "print(shares)"
   ]
  },
  {
   "cell_type": "code",
   "execution_count": 5,
   "id": "7aa4ea6e",
   "metadata": {},
   "outputs": [],
   "source": [
    "d = algo.Decoder(shares, p)"
   ]
  },
  {
   "cell_type": "code",
   "execution_count": 6,
   "id": "834deb40",
   "metadata": {},
   "outputs": [
    {
     "name": "stdout",
     "output_type": "stream",
     "text": [
      " \n",
      "-1 x + 4\n",
      "     2\n",
      "0.5 x - 4.5 x + 10\n",
      "new\n",
      "y 956\n",
      "     2\n",
      "478 x - 4302 x + 9560\n",
      "     2\n",
      "478 x - 4302 x + 9560\n",
      "end\n",
      " \n",
      "1 x - 3\n",
      "    2\n",
      "-1 x + 8 x - 15\n",
      "new\n",
      "y 601\n",
      "      2\n",
      "-601 x + 4808 x - 9015\n",
      "      2\n",
      "-601 x + 4808 x - 9015\n",
      "end\n",
      " \n",
      "0.5 x - 1.5\n",
      "     2\n",
      "0.5 x - 3.5 x + 6\n",
      "new\n",
      "y 412\n",
      "     2\n",
      "206 x - 1442 x + 2472\n",
      "     2\n",
      "206 x - 1442 x + 2472\n",
      "end\n"
     ]
    },
    {
     "data": {
      "text/plain": [
       "999.0"
      ]
     },
     "execution_count": 6,
     "metadata": {},
     "output_type": "execute_result"
    }
   ],
   "source": [
    "d.decode()"
   ]
  },
  {
   "cell_type": "code",
   "execution_count": 7,
   "id": "a12c70cd",
   "metadata": {},
   "outputs": [
    {
     "name": "stdout",
     "output_type": "stream",
     "text": [
      "-57\n",
      "99\n"
     ]
    }
   ],
   "source": [
    "import numpy as np\n",
    "print(np.fmod(-57, 109))\n",
    "print(317%109)"
   ]
  },
  {
   "cell_type": "code",
   "execution_count": 8,
   "id": "633fb117",
   "metadata": {},
   "outputs": [
    {
     "data": {
      "text/plain": [
       "[poly1d([  478., -4302.,  9560.]),\n",
       " poly1d([ -601.,  4808., -9015.]),\n",
       " poly1d([  206., -1442.,  2472.])]"
      ]
     },
     "execution_count": 8,
     "metadata": {},
     "output_type": "execute_result"
    }
   ],
   "source": [
    "d.basis_polynomials"
   ]
  }
 ],
 "metadata": {
  "kernelspec": {
   "display_name": "Python 3 (ipykernel)",
   "language": "python",
   "name": "python3"
  },
  "language_info": {
   "codemirror_mode": {
    "name": "ipython",
    "version": 3
   },
   "file_extension": ".py",
   "mimetype": "text/x-python",
   "name": "python",
   "nbconvert_exporter": "python",
   "pygments_lexer": "ipython3",
   "version": "3.9.7"
  }
 },
 "nbformat": 4,
 "nbformat_minor": 5
}
