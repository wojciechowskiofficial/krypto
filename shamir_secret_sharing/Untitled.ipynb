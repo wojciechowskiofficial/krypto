{
 "cells": [
  {
   "cell_type": "code",
   "execution_count": 1,
   "id": "c1ac64a7",
   "metadata": {},
   "outputs": [],
   "source": [
    "import algo"
   ]
  },
  {
   "cell_type": "code",
   "execution_count": 2,
   "id": "0d1e135e",
   "metadata": {},
   "outputs": [],
   "source": [
    "e = algo.Encoder(2, 4, 99)"
   ]
  },
  {
   "cell_type": "code",
   "execution_count": 3,
   "id": "2d18d5d7",
   "metadata": {},
   "outputs": [
    {
     "name": "stdout",
     "output_type": "stream",
     "text": [
      " \n",
      "82 x + 99\n"
     ]
    }
   ],
   "source": [
    "shares, p = e.encode()\n",
    "print(e.poly)"
   ]
  },
  {
   "cell_type": "code",
   "execution_count": 4,
   "id": "ba8f57c5",
   "metadata": {},
   "outputs": [
    {
     "name": "stdout",
     "output_type": "stream",
     "text": [
      "[(1, 78), (2, 57), (3, 36), (4, 15)] 103\n",
      "[(1, 78), (4, 15)]\n"
     ]
    }
   ],
   "source": [
    "print(shares, p)\n",
    "shares.pop(1)\n",
    "shares.pop(1)\n",
    "print(shares)\n",
    "shares, p = [(2, 25), (3, 97)], 109"
   ]
  },
  {
   "cell_type": "code",
   "execution_count": 5,
   "id": "f0fae9c5",
   "metadata": {},
   "outputs": [],
   "source": [
    "d = algo.Decoder(shares, p)"
   ]
  },
  {
   "cell_type": "code",
   "execution_count": 6,
   "id": "821c9746",
   "metadata": {},
   "outputs": [
    {
     "name": "stdout",
     "output_type": "stream",
     "text": [
      " \n",
      "-1 x + 3\n",
      "new\n",
      "y 25\n",
      " \n",
      "-25 x + 75\n",
      " \n",
      "-25 x + 75\n",
      "end\n",
      " \n",
      "1 x - 2\n",
      "new\n",
      "y 97\n",
      " \n",
      "97 x - 194\n",
      " \n",
      "97 x - 194\n",
      "end\n"
     ]
    },
    {
     "data": {
      "text/plain": [
       "99.0"
      ]
     },
     "execution_count": 6,
     "metadata": {},
     "output_type": "execute_result"
    }
   ],
   "source": [
    "d.decode()"
   ]
  },
  {
   "cell_type": "code",
   "execution_count": 7,
   "id": "8721a85b",
   "metadata": {},
   "outputs": [
    {
     "name": "stdout",
     "output_type": "stream",
     "text": [
      "-57\n",
      "99\n"
     ]
    }
   ],
   "source": [
    "import numpy as np\n",
    "print(np.fmod(-57, 109))\n",
    "print(317%109)"
   ]
  },
  {
   "cell_type": "code",
   "execution_count": 8,
   "id": "005ca578",
   "metadata": {},
   "outputs": [
    {
     "data": {
      "text/plain": [
       "[poly1d([-25.,  75.]), poly1d([  97., -194.])]"
      ]
     },
     "execution_count": 8,
     "metadata": {},
     "output_type": "execute_result"
    }
   ],
   "source": [
    "d.basis_polynomials"
   ]
  }
 ],
 "metadata": {
  "kernelspec": {
   "display_name": "Python 3 (ipykernel)",
   "language": "python",
   "name": "python3"
  },
  "language_info": {
   "codemirror_mode": {
    "name": "ipython",
    "version": 3
   },
   "file_extension": ".py",
   "mimetype": "text/x-python",
   "name": "python",
   "nbconvert_exporter": "python",
   "pygments_lexer": "ipython3",
   "version": "3.9.7"
  }
 },
 "nbformat": 4,
 "nbformat_minor": 5
}
