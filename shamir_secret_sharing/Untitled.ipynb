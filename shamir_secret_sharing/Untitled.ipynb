{
 "cells": [
  {
   "cell_type": "code",
   "execution_count": 1,
   "id": "1612aa60",
   "metadata": {},
   "outputs": [],
   "source": [
    "import algo"
   ]
  },
  {
   "cell_type": "code",
   "execution_count": 2,
   "id": "773af0eb",
   "metadata": {},
   "outputs": [],
   "source": [
    "e = algo.Encoder(3, 5, 99)"
   ]
  },
  {
   "cell_type": "code",
   "execution_count": 3,
   "id": "d6b7e95a",
   "metadata": {},
   "outputs": [
    {
     "name": "stdout",
     "output_type": "stream",
     "text": [
      "    2\n",
      "62 x + 18 x + 99\n"
     ]
    }
   ],
   "source": [
    "shares, p = e.encode()\n",
    "print(e.poly)"
   ]
  },
  {
   "cell_type": "code",
   "execution_count": 4,
   "id": "5375890d",
   "metadata": {},
   "outputs": [
    {
     "name": "stdout",
     "output_type": "stream",
     "text": [
      "[(1, 70), (2, 56), (3, 57), (4, 73), (5, 104)] 109\n",
      "[(3, 57), (4, 73), (5, 104)]\n"
     ]
    }
   ],
   "source": [
    "print(shares, p)\n",
    "shares.pop(0)\n",
    "shares.pop(0)\n",
    "print(shares)"
   ]
  },
  {
   "cell_type": "code",
   "execution_count": 5,
   "id": "7aa4ea6e",
   "metadata": {},
   "outputs": [],
   "source": [
    "d = algo.Decoder(shares, p)"
   ]
  },
  {
   "cell_type": "code",
   "execution_count": 6,
   "id": "834deb40",
   "metadata": {},
   "outputs": [
    {
     "data": {
      "text/plain": [
       "99.0"
      ]
     },
     "execution_count": 6,
     "metadata": {},
     "output_type": "execute_result"
    }
   ],
   "source": [
    "d.decode()"
   ]
  },
  {
   "cell_type": "code",
   "execution_count": 7,
   "id": "633fb117",
   "metadata": {},
   "outputs": [
    {
     "data": {
      "text/plain": [
       "[poly1d([  28.5, -256.5,  570. ]),\n",
       " poly1d([  -73.,   584., -1095.]),\n",
       " poly1d([  52., -364.,  624.])]"
      ]
     },
     "execution_count": 7,
     "metadata": {},
     "output_type": "execute_result"
    }
   ],
   "source": [
    "d.basis_polynomials"
   ]
  }
 ],
 "metadata": {
  "kernelspec": {
   "display_name": "Python 3 (ipykernel)",
   "language": "python",
   "name": "python3"
  },
  "language_info": {
   "codemirror_mode": {
    "name": "ipython",
    "version": 3
   },
   "file_extension": ".py",
   "mimetype": "text/x-python",
   "name": "python",
   "nbconvert_exporter": "python",
   "pygments_lexer": "ipython3",
   "version": "3.9.7"
  }
 },
 "nbformat": 4,
 "nbformat_minor": 5
}
